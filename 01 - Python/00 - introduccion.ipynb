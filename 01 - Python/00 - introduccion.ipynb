{
 "cells": [
  {
   "cell_type": "markdown",
   "metadata": {},
   "source": [
    "# Titulo 1\n",
    "## Titulo 2"
   ]
  },
  {
   "cell_type": "markdown",
   "metadata": {},
   "source": [
    "![alt text](https://scielo.conicyt.cl/fbpe/img/rmc/v141n9/art13-figura-1.jpg \"Logo Title Text 1\")"
   ]
  },
  {
   "cell_type": "code",
   "execution_count": 1,
   "metadata": {},
   "outputs": [
    {
     "name": "stdout",
     "output_type": "stream",
     "text": [
      "Hola mundo\n"
     ]
    }
   ],
   "source": [
    "print(\"Hola mundo\")"
   ]
  },
  {
   "cell_type": "code",
   "execution_count": 6,
   "metadata": {},
   "outputs": [
    {
     "name": "stdout",
     "output_type": "stream",
     "text": [
      "<class 'int'>\n",
      "<class 'float'>\n",
      "<class 'str'>\n",
      "<class 'str'>\n",
      "<class 'bool'>\n",
      "<class 'NoneType'>\n"
     ]
    }
   ],
   "source": [
    "#no tipado\n",
    "#no es necesario el ;\n",
    "#Variables primitivas\n",
    "entero = 4\n",
    "decimales  = 1.1\n",
    "nombre = \"Carlos\"\n",
    "segundo_nombre = \"Alexis\"\n",
    "apellido = 'Chicaiza'\n",
    "# no usamos el camel case usamos guion bajo\n",
    "casado = False\n",
    "profesor = True\n",
    "#los booleanos van con mayus\n",
    "hijos = None\n",
    "#es un tipo de dato vacio\n",
    "print(type(entero))\n",
    "print(type(decimales))\n",
    "print(type(nombre))\n",
    "print(type(apellido))\n",
    "print(type(casado))\n",
    "print(type(hijos))"
   ]
  },
  {
   "cell_type": "code",
   "execution_count": 7,
   "metadata": {},
   "outputs": [],
   "source": [
    "cadena_texto = \"\"\"El báculo o vara de Asclepio para los griegos, o Esculapio para los romanos es un antiguo símbolo asociado con el dios griego Asclepio y con la curación de enfermos mediante medicina. Se trata de una vara con una serpiente enrollada, representando al dios griego Asclepio, o Esculapio para los romanos.\n",
    "\"\"\""
   ]
  },
  {
   "cell_type": "code",
   "execution_count": 8,
   "metadata": {},
   "outputs": [
    {
     "name": "stdout",
     "output_type": "stream",
     "text": [
      "El báculo o vara de Asclepio para los griegos, o Esculapio para los romanos es un antiguo símbolo asociado con el dios griego Asclepio y con la curación de enfermos mediante medicina. Se trata de una vara con una serpiente enrollada, representando al dios griego Asclepio, o Esculapio para los romanos.\n",
      "\n"
     ]
    }
   ],
   "source": [
    "print(cadena_texto)"
   ]
  },
  {
   "cell_type": "code",
   "execution_count": null,
   "metadata": {},
   "outputs": [],
   "source": []
  }
 ],
 "metadata": {
  "kernelspec": {
   "display_name": "Python 3",
   "language": "python",
   "name": "python3"
  },
  "language_info": {
   "codemirror_mode": {
    "name": "ipython",
    "version": 3
   },
   "file_extension": ".py",
   "mimetype": "text/x-python",
   "name": "python",
   "nbconvert_exporter": "python",
   "pygments_lexer": "ipython3",
   "version": "3.8.1"
  }
 },
 "nbformat": 4,
 "nbformat_minor": 4
}
