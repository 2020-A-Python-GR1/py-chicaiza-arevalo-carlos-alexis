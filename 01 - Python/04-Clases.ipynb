{
 "cells": [
  {
   "cell_type": "code",
   "execution_count": 1,
   "metadata": {},
   "outputs": [
    {
     "data": {
      "text/plain": [
       "4"
      ]
     },
     "execution_count": 1,
     "metadata": {},
     "output_type": "execute_result"
    }
   ],
   "source": [
    "#funciones lambda\n",
    "def elevar_cuadrado(numero):\n",
    "    return numero*numero\n",
    "elevar_cuadrado(2)"
   ]
  },
  {
   "cell_type": "code",
   "execution_count": 2,
   "metadata": {},
   "outputs": [
    {
     "data": {
      "text/plain": [
       "4"
      ]
     },
     "execution_count": 2,
     "metadata": {},
     "output_type": "execute_result"
    }
   ],
   "source": [
    "al_cuadrado = lambda x: x*x\n",
    "al_cuadrado(2)"
   ]
  },
  {
   "cell_type": "code",
   "execution_count": 3,
   "metadata": {},
   "outputs": [
    {
     "data": {
      "text/plain": [
       "6"
      ]
     },
     "execution_count": 3,
     "metadata": {},
     "output_type": "execute_result"
    }
   ],
   "source": [
    "sumar_dos_numeros = lambda x,y: x+y\n",
    "sumar_dos_numeros(2,4)"
   ]
  },
  {
   "cell_type": "code",
   "execution_count": 4,
   "metadata": {},
   "outputs": [],
   "source": [
    "#Clases\n",
    "class Nada:\n",
    "    pass"
   ]
  },
  {
   "cell_type": "code",
   "execution_count": 5,
   "metadata": {},
   "outputs": [],
   "source": [
    "una_nada = Nada()"
   ]
  },
  {
   "cell_type": "code",
   "execution_count": 6,
   "metadata": {},
   "outputs": [
    {
     "name": "stdout",
     "output_type": "stream",
     "text": [
      "<__main__.Nada object at 0x0000023225C0FA88>\n"
     ]
    },
    {
     "data": {
      "text/plain": [
       "__main__.Nada"
      ]
     },
     "execution_count": 6,
     "metadata": {},
     "output_type": "execute_result"
    }
   ],
   "source": [
    "print(una_nada)\n",
    "type(una_nada)"
   ]
  },
  {
   "cell_type": "code",
   "execution_count": 20,
   "metadata": {},
   "outputs": [
    {
     "name": "stdout",
     "output_type": "stream",
     "text": [
      "Empezo el cosntructor\n",
      "Azul\n",
      "117.0\n",
      "Color: Azul\n",
      "Numero de Chasis: 100\n"
     ]
    }
   ],
   "source": [
    "class Auto:\n",
    "    color = None #atributo publico\n",
    "    __numero_chasis = 1 # atributo privado\n",
    "    \n",
    "    #definir un constructor\n",
    "    def __init__(self, color): #self es el equivalente a this\n",
    "        print(\"Empezo el cosntructor\")\n",
    "        self.color=color\n",
    "    \n",
    "    def set_chasis(self, numero_chasis):\n",
    "        self.__numero_chasis=numero_chasis\n",
    "        return self.__calculo_chasis()\n",
    "    \n",
    "    #funciones privadas\n",
    "    def __calculo_chasis(self):\n",
    "        return self.__numero_chasis*1.17\n",
    "    \n",
    "    def __str__(self):\n",
    "        parte_uno = f\"Color: {self.color}\\n\"\n",
    "        parte_dos = f\"Numero de Chasis: {self.__numero_chasis}\"\n",
    "        return parte_uno + parte_dos\n",
    "\n",
    "nuevo_auto = Auto(\"Azul\")\n",
    "print(nuevo_auto.color)\n",
    "print(nuevo_auto.set_chasis(100))\n",
    "print(nuevo_auto)"
   ]
  },
  {
   "cell_type": "code",
   "execution_count": 22,
   "metadata": {},
   "outputs": [
    {
     "name": "stdout",
     "output_type": "stream",
     "text": [
      "Iniciar contructor BMW\n",
      "Empezo el cosntructor\n",
      "Color: Blanco\n",
      "Numero de Chasis: 155\n"
     ]
    }
   ],
   "source": [
    "class BMW(Auto):\n",
    "    def __init__(self, color, chasis):\n",
    "        print(\"Iniciar contructor BMW\")\n",
    "        super().__init__(color)\n",
    "        super().set_chasis(chasis)\n",
    "\n",
    "nuevo_BMW = BMW(\"Blanco\", 155)\n",
    "print(nuevo_BMW)"
   ]
  },
  {
   "cell_type": "code",
   "execution_count": null,
   "metadata": {},
   "outputs": [],
   "source": []
  }
 ],
 "metadata": {
  "kernelspec": {
   "display_name": "Python 3",
   "language": "python",
   "name": "python3"
  },
  "language_info": {
   "codemirror_mode": {
    "name": "ipython",
    "version": 3
   },
   "file_extension": ".py",
   "mimetype": "text/x-python",
   "name": "python",
   "nbconvert_exporter": "python",
   "pygments_lexer": "ipython3",
   "version": "3.7.4"
  }
 },
 "nbformat": 4,
 "nbformat_minor": 2
}
